{
 "cells": [
  {
   "cell_type": "markdown",
   "metadata": {},
   "source": [
    "# Build a blog application"
   ]
  },
  {
   "cell_type": "markdown",
   "metadata": {},
   "source": [
    "### 1. Problem Statement"
   ]
  },
  {
   "cell_type": "markdown",
   "metadata": {},
   "source": [
    "<h3>Problem Statement</h3>\n",
    "<p>Build a blogging application using Flask that can perform the following operations</p>\n",
    "<ul>\n",
    "    <li>A user should be able to register an account and perform a login</li>\n",
    "    <li>Register users should be allowed to create, edit and delete a blogpost</li>\n",
    "    <li>Any visitor to the site should be able to view the blogposts written by all users</li>\n",
    "</ul>\n",
    "<h3>Approach to solve the problem</h3>\n",
    "<ul>\n",
    "    <li>Design a database for the application (create tables)</li>\n",
    "    <li>Design endpoints for the application (/register, /login, etc)</li>\n",
    "    <li>Start by building the application frontend (create routes)</li>\n",
    "    <li>Develop a backend for the application (handle all the requests)</li>\n",
    "</ul>"
   ]
  },
  {
   "cell_type": "markdown",
   "metadata": {},
   "source": [
    "### 2. Design the database"
   ]
  },
  {
   "cell_type": "markdown",
   "metadata": {},
   "source": [
    "#### DESIGN DATATABLE\n",
    "\n",
    "<h3>FLOG_DB</h3>\n",
    "<ul>\n",
    "    <li>user</li>\n",
    "    <li>blog</li>\n",
    "</ul>\n",
    "<h3>USER</h3>\n",
    "<ul>\n",
    "    <li>user_id    => Primary key, integer, auto increment at every insertion to the table</li>\n",
    "    <li>first_name => Varchar</li>\n",
    "    <li>last_name  =>Varchar</li>\n",
    "    <li>username   =>Varchar, unique</li>\n",
    "    <li>email      => Varchar, unique</li>\n",
    "    <li>password   => Varchar</li>\n",
    "</ul>\n",
    "<h3>BLOG</h3>\n",
    "<ul>\n",
    "    <li>blog_id    => Primary key, integer, auto increment at every insertion to the table</li>\n",
    "    <li>title => Varchar</li>\n",
    "    <li>author  =>Varchar</li>\n",
    "    <li>body   =>Varchar</li>\n",
    "</ul>\n",
    "<br>\n",
    "<h3>Go to the Terminal </h3>\n",
    "<code>infosys@infosys-HP-Notebook:~$ <span style=\"color: green\">mysql -u root -p</span></code>\n",
    "<br>\n",
    "<h3> Create a database </h3>\n",
    "<code>mysql> CREATE DATABASE flog_db;</code>\n",
    "<br>\n",
    "<br>\n",
    "<code>mysql > USE flog_db;</code>\n",
    "<h3> Create user table </h3>\n",
    "<pre>\n",
    "CREATE TABLE user(\n",
    "        user_id int auto_increment,\n",
    "        first_name varchar(20) NOT NULL,\n",
    "        last_name varchar(20) NOT NULL,\n",
    "        username varchar(100) unique,\n",
    "        email varchar(100) unique,\n",
    "        password varchar(100) unique,\n",
    "        PRIMARY KEY(user_id)\n",
    ");\n",
    "</pre>\n",
    "<br>\n",
    "<h3> Create blog table </h3>\n",
    "<pre>\n",
    "CREATE TABLE blog(\n",
    "        blog_id int auto_increment,\n",
    "        title varchar(250) NOT NULL,\n",
    "        author varchar(250) NOT NULL,\n",
    "        body text,\n",
    "        PRIMARY KEY(blog_id)\n",
    ");\n",
    "</pre>"
   ]
  },
  {
   "cell_type": "markdown",
   "metadata": {},
   "source": [
    "### 3. Design endpoints"
   ]
  },
  {
   "cell_type": "markdown",
   "metadata": {},
   "source": [
    "<table class=\"table table-bordered\" align=\"center\">\n",
    "    <tr style=\"background-color:green;color:#fff\">\n",
    "        <th>Type of Request</th>\n",
    "        <th>Endpoint</th>\n",
    "        <th>Description</th>\n",
    "    </tr>\n",
    "    <tr>\n",
    "        <td>GET</td>\n",
    "        <td>/</td>\n",
    "        <td>Loads the home page of the application.Links to all the blogs should be listed here</td>\n",
    "    </tr> \n",
    "    <tr>\n",
    "        <td>GET</td>\n",
    "        <td>/about</td>\n",
    "        <td>This should load the 'about' page of our application</td>\n",
    "    </tr>\n",
    "    <tr>\n",
    "        <td>GET</td>\n",
    "        <td>/register</td>\n",
    "        <td>Loads a form to register a user</td>\n",
    "    </tr>  \n",
    "    <tr>\n",
    "        <td>POST</td>\n",
    "        <td>/register</td>\n",
    "        <td>Validates the form details and creates a new user in the database</td>\n",
    "    </tr>  \n",
    "    <tr>\n",
    "        <td>GET</td>\n",
    "        <td>/login</td>\n",
    "        <td>Loads a form for user login</td>\n",
    "    </tr>  \n",
    "    <tr>\n",
    "        <td>POST</td>\n",
    "        <td>/login</td>\n",
    "        <td>Validates th credentials entered and logs in the user</td>\n",
    "    </tr>  \n",
    "    <tr>\n",
    "        <td>GET</td>\n",
    "        <td>/write-blog</td>\n",
    "        <td>Loads a form using which the user can write a blogpost</td>\n",
    "    </tr> \n",
    "    <tr>\n",
    "        <td>POST</td>\n",
    "        <td>/write-blog</td>\n",
    "        <td>create a new blog in the database</td>\n",
    "    </tr>\n",
    "     <tr>\n",
    "        <td>GET</td>\n",
    "        <td>/blogs/<int:id></td>\n",
    "        <td>Loads the blogpost with the given id</td>\n",
    "    </tr>  \n",
    "    <tr>\n",
    "        <td>POST</td>\n",
    "        <td>/my-blog</td>\n",
    "        <td>Lists all the links of blogs written by the logged in user</td>\n",
    "    </tr>  \n",
    "    <tr>\n",
    "        <td>GET</td>\n",
    "        <td>/edit-blog/<int:id></td>\n",
    "        <td>Loads a form with contents from the blogpost of the id mentioned</td>\n",
    "    </tr> \n",
    "    <tr>\n",
    "        <td>POST</td>\n",
    "        <td>/edit-blog/<int:id></td>\n",
    "        <td>Update the blogpost with the given id</td>\n",
    "    </tr>\n",
    "    <tr>\n",
    "        <td>POST</td>\n",
    "        <td>/delete-blog/<int:id></td>\n",
    "        <td>Deletes the blogpost with the given id</td>\n",
    "    </tr> \n",
    "    <tr>\n",
    "        <td>GET</td>\n",
    "        <td>/logout</td>\n",
    "        <td>Logs out the current user</td>\n",
    "    </tr>\n",
    "</table>"
   ]
  },
  {
   "cell_type": "markdown",
   "metadata": {},
   "source": [
    "### 4. Build the application frontend"
   ]
  },
  {
   "cell_type": "code",
   "execution_count": null,
   "metadata": {},
   "outputs": [],
   "source": []
  },
  {
   "cell_type": "markdown",
   "metadata": {},
   "source": [
    "### 5. User register and login"
   ]
  },
  {
   "cell_type": "code",
   "execution_count": null,
   "metadata": {},
   "outputs": [],
   "source": []
  },
  {
   "cell_type": "markdown",
   "metadata": {},
   "source": [
    "### 6. Create and view a blogpost"
   ]
  },
  {
   "cell_type": "code",
   "execution_count": null,
   "metadata": {},
   "outputs": [],
   "source": []
  },
  {
   "cell_type": "markdown",
   "metadata": {},
   "source": [
    "### 7. Edit and delete a blogpost"
   ]
  },
  {
   "cell_type": "code",
   "execution_count": null,
   "metadata": {},
   "outputs": [],
   "source": []
  }
 ],
 "metadata": {
  "kernelspec": {
   "display_name": "Python 3",
   "language": "python",
   "name": "python3"
  },
  "language_info": {
   "codemirror_mode": {
    "name": "ipython",
    "version": 3
   },
   "file_extension": ".py",
   "mimetype": "text/x-python",
   "name": "python",
   "nbconvert_exporter": "python",
   "pygments_lexer": "ipython3",
   "version": "3.7.1"
  }
 },
 "nbformat": 4,
 "nbformat_minor": 2
}
